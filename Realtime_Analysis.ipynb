{
 "cells": [
  {
   "cell_type": "markdown",
   "metadata": {},
   "source": [
    "# Realtime Results Analysis\n",
    "Created by Kevin Ta 2021.01.21\n"
   ]
  },
  {
   "cell_type": "code",
   "execution_count": 1,
   "metadata": {},
   "outputs": [],
   "source": [
    "# Import relevant modules\n",
    "import os\n",
    "import glob\n",
    "import time\n",
    "from datetime import datetime\n",
    "\n",
    "import pandas as pd\n",
    "import numpy as np\n",
    "\n",
    "from sklearn.metrics import accuracy_score, balanced_accuracy_score, f1_score, precision_score, recall_score, confusion_matrix\n",
    "\n",
    "import seaborn as sns\n",
    "import matplotlib.pyplot as plt\n",
    "\n",
    "sns.set()"
   ]
  },
  {
   "cell_type": "code",
   "execution_count": 2,
   "metadata": {},
   "outputs": [
    {
     "name": "stdout",
     "output_type": "stream",
     "text": [
      "(2249,)\n",
      "(2249,)\n",
      "(4311,)\n",
      "(4311,)\n",
      "(10598,)\n",
      "(10598,)\n",
      "(12727,)\n",
      "(12727,)\n",
      "(15892,)\n",
      "(15892,)\n",
      "(18029,)\n",
      "(18029,)\n",
      "(20124,)\n",
      "(20124,)\n",
      "(22345,)\n",
      "(22345,)\n",
      "(24550,)\n",
      "(24550,)\n",
      "(26757,)\n",
      "(26757,)\n",
      "(28490,)\n",
      "(28490,)\n",
      "(34935,)\n",
      "(34935,)\n",
      "(37274,)\n",
      "(37274,)\n",
      "(43806,)\n",
      "(43806,)\n",
      "(47091,)\n",
      "(47091,)\n",
      "(53533,)\n",
      "(53533,)\n",
      "(58763,)\n",
      "(58763,)\n",
      "(60876,)\n",
      "(60876,)\n",
      "(63229,)\n",
      "(63229,)\n",
      "(66017,)\n",
      "(66017,)\n",
      "(68224,)\n",
      "(68224,)\n",
      "(70013,)\n",
      "(70013,)\n",
      "(76382,)\n",
      "(76382,)\n",
      "(78507,)\n",
      "(78507,)\n",
      "(84883,)\n",
      "(84883,)\n",
      "(87235,)\n",
      "(87235,)\n",
      "(93605,)\n",
      "(93605,)\n",
      "(95826,)\n",
      "(95826,)\n"
     ]
    },
    {
     "data": {
      "text/plain": [
       "Text(0.5, 1.0, 'Everyone')"
      ]
     },
     "execution_count": 2,
     "metadata": {},
     "output_type": "execute_result"
    },
    {
     "data": {
      "image/png": "[encoded data removed]",
      "text/plain": [
       "<Figure size 720x576 with 2 Axes>"
      ]
     },
     "metadata": {},
     "output_type": "display_data"
    }
   ],
   "source": [
    "COUNT_ZERO = True\n",
    "\n",
    "TERRAINS = ['Asphalt', 'Carpet', 'Concrete', 'Gravel', 'Grass', 'Linoleum', 'Sidewalk']\n",
    "TERRAINS_R1 = ['No Motion','Indoor', 'Asphalt-Sidewalk', 'Grass', 'Gravel']\n",
    "TERRAINS_R2 = ['No Motion','Indoor', 'Outdoor']\n",
    "\n",
    "TEST_SET = [('Jamie', 'Concrete', 'Donut'),\n",
    "            ('Jamie', 'Carpet', 'Donut'),\n",
    "            ('Jamie', 'Linoleum', 'F8'),\n",
    "            ('Jamie', 'Asphalt','Donut'),\n",
    "            ('Jamie', 'Sidewalk','Straight'),\n",
    "            ('Jamie', 'Grass','Donut'),\n",
    "            ('Jamie', 'Gravel', 'Donut'),\n",
    "            ('Keenan', 'Concrete', 'Donut'),\n",
    "            ('Keenan', 'Carpet', 'Donut'),\n",
    "            ('Keenan', 'Linoleum', 'Donut'),\n",
    "            ('Keenan', 'Asphalt', 'Straight'),\n",
    "            ('Keenan', 'Sidewalk', 'F8'),\n",
    "            ('Keenan', 'Grass', 'Straight'),\n",
    "            ('Keenan', 'Gravel', 'F8'),\n",
    "            ('Kevin', 'Concrete', 'Donut'),\n",
    "            ('Kevin', 'Carpet', 'F8'),\n",
    "            ('Kevin', 'Linoleum', 'F8'),\n",
    "            ('Kevin', 'Asphalt', 'Straight'),\n",
    "            ('Kevin', 'Sidewalk', 'Donut'),\n",
    "            ('Kevin', 'Grass', 'Straight'),\n",
    "            ('Kevin', 'Gravel', 'Straight'),\n",
    "            ('Mahsa', 'Concrete', 'Straight'),\n",
    "            ('Mahsa', 'Carpet', 'F8'),\n",
    "            ('Mahsa', 'Linoleum', 'Donut'),\n",
    "            ('Mahsa', 'Asphalt', 'F8'),\n",
    "            ('Mahsa', 'Sidewalk', 'Straight'),\n",
    "            ('Mahsa', 'Grass', 'F8'),\n",
    "            ('Mahsa', 'Gravel', 'Straight')]\n",
    "\n",
    "\"\"\"\n",
    "TEST_SET = [('Asphalt', 'Donut', 'Jamie'),\n",
    "            ('Asphalt', 'Donut', 'Kevin'),\n",
    "            ('Asphalt', 'F8', 'Mahsa'),\n",
    "            ('Asphalt', 'Straight', 'Kevin'),\n",
    "            ('Carpet', 'Donut', 'Jamie'),\n",
    "            ('Carpet', 'F8', 'Keenan'),\n",
    "            ('Carpet', 'F8', 'Kevin'),\n",
    "            ('Carpet', 'F8', 'Mahsa'),\n",
    "            ('Carpet', 'Straight', 'Mahsa'),\n",
    "            ('Concrete', 'Donut', 'Kevin'),\n",
    "            ('Concrete', 'F8', 'Keenan'),\n",
    "            ('Concrete', 'F8', 'Mahsa'),\n",
    "            ('Concrete', 'Straight', 'Mahsa'),\n",
    "            ('Grass', 'Donut', 'Mahsa'),\n",
    "            ('Grass', 'F8', 'Mahsa'),\n",
    "            ('Grass', 'Straight', 'Jamie'),\n",
    "            ('Grass', 'Straight', 'Keenan'),\n",
    "            ('Grass', 'Straight', 'Kevin'),\n",
    "            ('Gravel', 'Donut', 'Keenan'),\n",
    "            ('Gravel', 'Donut', 'Kevin'),\n",
    "            ('Linoleum', 'Donut', 'Jamie'),\n",
    "            ('Linoleum', 'F8', 'Keenan'),\n",
    "            ('Linoleum', 'Straight', 'Jamie'),\n",
    "            ('Linoleum', 'Straight', 'Kevin'),\n",
    "            ('Sidewalk', 'Donut', 'Kevin'),\n",
    "            ('Sidewalk', 'F8', 'Kevin'),\n",
    "            ('Sidewalk', 'Straight', 'Keenan'),\n",
    "            ('Sidewalk', 'Straight', 'Kevin'),]\n",
    "\"\"\"\n",
    "\n",
    "PERSON = 'Everyone'\n",
    "\n",
    "SOURCE = '1024-Time-Relabelled2-New'\n",
    "\n",
    "#TEST_SET = [item for i, item in enumerate(TEST_SET) if PERSON in item]\n",
    "\n",
    "nonzero = 0\n",
    "\n",
    "current_path = os.getcwd()\n",
    "\n",
    "y_true = np.array([])\n",
    "y_pred = np.array([])\n",
    "timeDiffs = np.array([])\n",
    "\n",
    "for dataset in TEST_SET:\n",
    "\n",
    "    data = pd.read_csv(os.path.join('2021-Results', SOURCE, '200ms-6050-{}-{}-{}.csv'.format(dataset[1], dataset[2], dataset[0])))\n",
    "    \n",
    "    y_pred_temp = np.trim_zeros(data['RF Time'].to_numpy(dtype=np.int8))\n",
    "    y_true_temp = data['True Label'].to_numpy(dtype=np.int8)\n",
    "    timeDiffs_temp = np.diff(data['Time'].to_numpy())\n",
    "    nonzero += len(y_true_temp) - len(y_pred_temp)\n",
    "    \n",
    "    y_true = np.append(y_true, y_true_temp[0:len(y_pred_temp)])\n",
    "    y_pred = np.append(y_pred, y_pred_temp)\n",
    "    timeDiffs = np.append(timeDiffs, timeDiffs_temp)\n",
    "    \n",
    "    print(y_true.shape)\n",
    "    print(y_pred.shape)\n",
    "\n",
    "if COUNT_ZERO:\n",
    "    y_true = np.append(y_true, np.zeros(nonzero))\n",
    "    y_pred = np.append(y_pred, np.zeros(nonzero))\n",
    "\n",
    "cmat = confusion_matrix(y_pred, y_true)\n",
    "\n",
    "plt.figure(figsize=(10,8))\n",
    "sns.heatmap(cmat/(cmat.sum(axis=0)+0.01)*100, \n",
    "            annot=cmat/(cmat.sum(axis=0)+0.01)*100, \n",
    "            xticklabels=TERRAINS_R2, yticklabels=TERRAINS_R2, fmt='.1f', cmap='Purples', vmin = 0, vmax=100)\n",
    "plt.yticks(rotation=0)\n",
    "plt.xlabel(\"True Label\")\n",
    "plt.ylabel(\"Predicted Label\")\n",
    "plt.title(PERSON)\n"
   ]
  },
  {
   "cell_type": "code",
   "execution_count": 3,
   "metadata": {},
   "outputs": [
    {
     "name": "stdout",
     "output_type": "stream",
     "text": [
      "Accuracy Score:               90.63%\n",
      "Balanced Accuracy Score:      90.07%\n",
      "F1 Score (Macro):             90.13%\n",
      "F1 Score (Individual):\n",
      "[0.97817229 0.93331038 0.87972509 0.83920532 0.87633232]\n"
     ]
    }
   ],
   "source": [
    "print(\"Accuracy Score:          {:10.2f}%\".format(100*accuracy_score(y_true,y_pred)))\n",
    "print(\"Balanced Accuracy Score: {:10.2f}%\".format(100*balanced_accuracy_score(y_true,y_pred)))\n",
    "print(\"F1 Score (Macro):        {:10.2f}%\".format(100*f1_score(y_true,y_pred, average='macro')))\n",
    "\n",
    "print('F1 Score (Individual):')\n",
    "print(f1_score(y_true,y_pred, average=None))"
   ]
  },
  {
   "cell_type": "code",
   "execution_count": 4,
   "metadata": {},
   "outputs": [
    {
     "name": "stdout",
     "output_type": "stream",
     "text": [
      "Mahsa:     7\n",
      "Jamie:     7\n",
      "Kevin:     7\n",
      "Keenan:    7\n"
     ]
    }
   ],
   "source": [
    "FILTER = [item for i, item in enumerate(TEST_SET) if 'Mahsa' in item]\n",
    "print('Mahsa:  {:4}'.format(len(FILTER)))\n",
    "FILTER = [item for i, item in enumerate(TEST_SET) if 'Jamie' in item]\n",
    "print('Jamie:  {:4}'.format(len(FILTER)))\n",
    "FILTER = [item for i, item in enumerate(TEST_SET) if 'Kevin' in item]\n",
    "print('Kevin:  {:4}'.format(len(FILTER)))\n",
    "FILTER = [item for i, item in enumerate(TEST_SET) if 'Keenan' in item]\n",
    "print('Keenan: {:4}'.format(len(FILTER)))"
   ]
  },
  {
   "cell_type": "code",
   "execution_count": 5,
   "metadata": {},
   "outputs": [
    {
     "name": "stdout",
     "output_type": "stream",
     "text": [
      "Asphalt:      4\n",
      "Carpet:       4\n",
      "Concrete:     4\n",
      "Grass:        4\n",
      "Gravel:       4\n",
      "Linoleum:     4\n",
      "Sidewalk:     4\n"
     ]
    }
   ],
   "source": [
    "FILTER = [item for i, item in enumerate(TEST_SET) if 'Asphalt' in item]\n",
    "print('Asphalt:   {:4}'.format(len(FILTER)))\n",
    "FILTER = [item for i, item in enumerate(TEST_SET) if 'Carpet' in item]\n",
    "print('Carpet:    {:4}'.format(len(FILTER)))\n",
    "FILTER = [item for i, item in enumerate(TEST_SET) if 'Concrete' in item]\n",
    "print('Concrete:  {:4}'.format(len(FILTER)))\n",
    "FILTER = [item for i, item in enumerate(TEST_SET) if 'Grass' in item]\n",
    "print('Grass:     {:4}'.format(len(FILTER)))\n",
    "FILTER = [item for i, item in enumerate(TEST_SET) if 'Gravel' in item]\n",
    "print('Gravel:    {:4}'.format(len(FILTER)))\n",
    "FILTER = [item for i, item in enumerate(TEST_SET) if 'Linoleum' in item]\n",
    "print('Linoleum:  {:4}'.format(len(FILTER)))\n",
    "FILTER = [item for i, item in enumerate(TEST_SET) if 'Sidewalk' in item]\n",
    "print('Sidewalk:  {:4}'.format(len(FILTER)))"
   ]
  },
  {
   "cell_type": "code",
   "execution_count": 6,
   "metadata": {},
   "outputs": [
    {
     "name": "stdout",
     "output_type": "stream",
     "text": [
      "Donut:      11\n",
      "Figure 8:    8\n",
      "Straight:    9\n"
     ]
    }
   ],
   "source": [
    "FILTER = [item for i, item in enumerate(TEST_SET) if 'Donut' in item]\n",
    "print('Donut:    {:4}'.format(len(FILTER)))\n",
    "FILTER = [item for i, item in enumerate(TEST_SET) if 'F8' in item]\n",
    "print('Figure 8: {:4}'.format(len(FILTER)))\n",
    "FILTER = [item for i, item in enumerate(TEST_SET) if 'Straight' in item]\n",
    "print('Straight: {:4}'.format(len(FILTER)))"
   ]
  },
  {
   "cell_type": "code",
   "execution_count": 7,
   "metadata": {},
   "outputs": [
    {
     "name": "stdout",
     "output_type": "stream",
     "text": [
      "Concrete-Donut-Jamie-Classification     :       26.3 ms\n",
      "Carpet-Donut-Jamie-Classification       :       27.7 ms\n",
      "Linoleum-F8-Jamie-Classification        :       27.8 ms\n",
      "Asphalt-Donut-Jamie-Classification      :       28.0 ms\n",
      "Sidewalk-Straight-Jamie-Classification  :       28.1 ms\n",
      "Grass-Donut-Jamie-Classification        :       28.2 ms\n",
      "Gravel-Donut-Jamie-Classification       :       28.2 ms\n",
      "Concrete-Donut-Keenan-Classification    :       28.0 ms\n",
      "Carpet-Donut-Keenan-Classification      :       28.3 ms\n",
      "Linoleum-Donut-Keenan-Classification    :       28.1 ms\n",
      "Asphalt-Straight-Keenan-Classification  :       28.1 ms\n",
      "Sidewalk-F8-Keenan-Classification       :       28.4 ms\n",
      "Grass-Straight-Keenan-Classification    :       28.0 ms\n",
      "Gravel-F8-Keenan-Classification         :       28.1 ms\n",
      "Concrete-Donut-Kevin-Classification     :       28.0 ms\n",
      "Carpet-F8-Kevin-Classification          :       28.1 ms\n",
      "Linoleum-F8-Kevin-Classification        :       28.1 ms\n",
      "Asphalt-Straight-Kevin-Classification   :       28.0 ms\n",
      "Sidewalk-Donut-Kevin-Classification     :       27.9 ms\n",
      "Grass-Straight-Kevin-Classification     :       27.7 ms\n",
      "Gravel-Straight-Kevin-Classification    :       27.5 ms\n",
      "Concrete-Straight-Mahsa-Classification  :       27.6 ms\n",
      "Carpet-F8-Mahsa-Classification          :       28.1 ms\n",
      "Linoleum-Donut-Mahsa-Classification     :       27.7 ms\n",
      "Asphalt-F8-Mahsa-Classification         :       28.1 ms\n",
      "Sidewalk-Straight-Mahsa-Classification  :       27.7 ms\n",
      "Grass-F8-Mahsa-Classification           :       28.3 ms\n",
      "Gravel-Straight-Mahsa-Classification    :       27.7 ms\n"
     ]
    }
   ],
   "source": [
    "from joblib import load, dump\n",
    "\n",
    "performance = load(os.path.join('2021-Results', SOURCE, 'performance.joblib'))\n",
    "\n",
    "for item in performance:\n",
    "    print(\"{:<40}: {:>10.3} ms\".format(item, 1000*performance[item][1]/performance[item][0]))"
   ]
  },
  {
   "cell_type": "code",
   "execution_count": 8,
   "metadata": {},
   "outputs": [
    {
     "name": "stdout",
     "output_type": "stream",
     "text": [
      "27.98611432264099\n",
      "3.068924614822276\n"
     ]
    }
   ],
   "source": [
    "print(1000*np.mean(timeDiffs))\n",
    "print(1000*np.std(timeDiffs))"
   ]
  },
  {
   "cell_type": "code",
   "execution_count": 12,
   "metadata": {},
   "outputs": [
    {
     "data": {
      "text/plain": [
       "<matplotlib.legend.Legend at 0x7f6fd8f432b0>"
      ]
     },
     "execution_count": 12,
     "metadata": {},
     "output_type": "execute_result"
    },
    {
     "data": {
      "image/png": "[encoded data removed]",
      "text/plain": [
       "<Figure size 600x400 with 1 Axes>"
      ]
     },
     "metadata": {},
     "output_type": "display_data"
    }
   ],
   "source": [
    "import matplotlib as mpl\n",
    "mpl.rcParams.update(mpl.rcParamsDefault)\n",
    "\n",
    "dataDetails = [\n",
    "    {'Features': 'Time', 'Window Size':  512, 'Classes': 5, 'Acc':86.9,'F1':  86.7,'Mean': 19.90,'St.D.': 1.95},\n",
    "    {'Features': 'Time', 'Window Size': 1024, 'Classes': 5, 'Acc':90.7, 'F1':  90.2, 'Mean': 25.82,'St.D.': 3.00},\n",
    "    {'Features': 'Time', 'Window Size':  512, 'Classes': 3, 'Acc':92.1, 'F1':  93.1, 'Mean': 25.14,'St.D.': 3.12},\n",
    "    {'Features': 'Time', 'Window Size': 1024, 'Classes': 3, 'Acc':94.1, 'F1':  95.1, 'Mean': 25.58,'St.D.': 3.02},\n",
    "    {'Features': 'Time & Frequency', 'Window Size':  512, 'Classes': 5, 'Acc':87.5, 'F1':  87.4, 'Mean': 18.79,'St.D.': 1.71},\n",
    "    {'Features': 'Time & Frequency', 'Window Size': 1024, 'Classes': 5, 'Acc':91.1, 'F1':  90.5, 'Mean': 30.77,'St.D.': 3.14},\n",
    "    {'Features': 'Time & Frequency', 'Window Size':  512, 'Classes': 3, 'Acc':92.3, 'F1':  93.6, 'Mean': 24.04,'St.D.': 2.68},\n",
    "    {'Features': 'Time & Frequency', 'Window Size': 1024, 'Classes': 3, 'Acc':95.1, 'F1':  95.8, 'Mean': 24.30,'St.D.': 2.70},\n",
    "]\n",
    "\n",
    "colour = {'Time': 'b', 'Time & Frequency': 'r'}\n",
    "shape = {5: 'o', 3:'^'}\n",
    "fill = {512: 'full', 1024: 'none'}\n",
    "\n",
    "fig = plt.figure(figsize=(6,4))\n",
    "plt.xlim([15,35])\n",
    "plt.ylim([85,100])\n",
    "\n",
    "for item in dataDetails:\n",
    "    col = colour[item['Features']]\n",
    "    sha = shape[item['Classes']]\n",
    "    fi = fill[item['Window Size']]\n",
    "    plt.errorbar(item['Mean'], item['Acc'], xerr = item['St.D.'], ecolor = col, capsize = 5, alpha = 0.5)\n",
    "    plt.plot(item['Mean'], item['Acc'], '{}{}'.format(col, sha), fillstyle=fi, markersize = 10)\n",
    "plt.title('Real-time Performance: Accuracy vs. Processing Time')\n",
    "plt.ylabel('Accuracy (%)')\n",
    "plt.xlabel('Processing Time (ms)')\n",
    "legend_elements = [\n",
    "    mpl.lines.Line2D([0], [0], marker = 's', color = 'none', fillstyle = 'full', markeredgecolor = 'b', markerfacecolor = 'b', label = 'Time', markersize = 10),\n",
    "    mpl.lines.Line2D([0], [0], marker = 's', color = 'none', fillstyle = 'full', markeredgecolor = 'r', markerfacecolor = 'r', label = 'Time & Frequency', markersize = 10),\n",
    "    mpl.lines.Line2D([0], [0], marker = 'o', color = 'none', fillstyle = 'none', markeredgecolor = 'k', markerfacecolor = 'k', label = '5 Class', markersize = 10),\n",
    "    mpl.lines.Line2D([0], [0], marker = '^', color = 'none', fillstyle = 'none', markeredgecolor = 'k', markerfacecolor = 'k', label = '3 Class', markersize = 10),\n",
    "    mpl.lines.Line2D([0], [0], marker = 's', color = 'none', fillstyle = 'full', markeredgecolor = 'k', markerfacecolor = 'k', label = '512 Window', markersize = 10),\n",
    "    mpl.lines.Line2D([0], [0], marker = 's', color = 'none', fillstyle = 'none', markeredgecolor = 'k', markerfacecolor = 'k', label = '1024 Window', markersize = 10),]\n",
    "plt.legend(handles=legend_elements, ncol=3, loc = 'upper center')"
   ]
  }
 ],
 "metadata": {
  "kernelspec": {
   "display_name": "Python 3",
   "language": "python",
   "name": "python3"
  },
  "language_info": {
   "codemirror_mode": {
    "name": "ipython",
    "version": 3
   },
   "file_extension": ".py",
   "mimetype": "text/x-python",
   "name": "python",
   "nbconvert_exporter": "python",
   "pygments_lexer": "ipython3",
   "version": "3.8.3"
  }
 },
 "nbformat": 4,
 "nbformat_minor": 4
}
